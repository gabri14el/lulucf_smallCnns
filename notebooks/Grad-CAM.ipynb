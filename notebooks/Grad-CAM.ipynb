{
 "cells": [
  {
   "cell_type": "code",
   "execution_count": 1,
   "id": "4f072c7f",
   "metadata": {},
   "outputs": [
    {
     "name": "stderr",
     "output_type": "stream",
     "text": [
      "2022-10-11 10:20:35.895489: W tensorflow/stream_executor/platform/default/dso_loader.cc:64] Could not load dynamic library 'libcudart.so.11.0'; dlerror: libcudart.so.11.0: cannot open shared object file: No such file or directory\n",
      "2022-10-11 10:20:35.895519: I tensorflow/stream_executor/cuda/cudart_stub.cc:29] Ignore above cudart dlerror if you do not have a GPU set up on your machine.\n"
     ]
    },
    {
     "name": "stdout",
     "output_type": "stream",
     "text": [
      "Notebook run using keras: 2.9.0\n"
     ]
    }
   ],
   "source": [
    "import os\n",
    "import tensorflow.keras as keras\n",
    "from tensorflow.keras.applications import inception_v3 as inc_net\n",
    "from tensorflow.keras.preprocessing import image\n",
    "from tensorflow.keras.applications.imagenet_utils import decode_predictions\n",
    "from skimage.io import imread\n",
    "import matplotlib.pyplot as plt\n",
    "%matplotlib inline\n",
    "import numpy as np\n",
    "from tensorflow.keras import backend as K\n",
    "from sklearn import metrics\n",
    "import itertools\n",
    "print('Notebook run using keras:', keras.__version__)\n",
    "import random\n",
    "import utils\n",
    "import pandas as pd\n",
    "from skimage.transform import resize\n",
    "\n",
    "nclasses = 6"
   ]
  },
  {
   "cell_type": "code",
   "execution_count": 2,
   "id": "84fb95c8",
   "metadata": {},
   "outputs": [
    {
     "name": "stdout",
     "output_type": "stream",
     "text": [
      "                                                path                    name  \\\n",
      "0  /home/gabriel/Downloads/data_5_v5_Lines_aug/va...  1057_3044372_(0,0).txt   \n",
      "1  /home/gabriel/Downloads/data_5_v5_Lines_aug/va...   522_7016187_(0,0).txt   \n",
      "2  /home/gabriel/Downloads/data_5_v5_Lines_aug/va...  1522_4667812_(0,0).txt   \n",
      "3  /home/gabriel/Downloads/data_5_v5_Lines_aug/va...   314_7444417_(0,0).txt   \n",
      "4  /home/gabriel/Downloads/data_5_v5_Lines_aug/va...  1939_3858497_(0,0).txt   \n",
      "\n",
      "  class         set  \n",
      "0     1  validation  \n",
      "1     1  validation  \n",
      "2     1  validation  \n",
      "3     1  validation  \n",
      "4     1  validation  \n"
     ]
    }
   ],
   "source": [
    "#dataset path\n",
    "path = r'/home/gabriel/Downloads/data_5_v5_Lines_aug/'\n",
    "dim = (5, 5, 13, 1)\n",
    "\n",
    "_rows = []\n",
    "for root, dirs, files in os.walk(path):\n",
    "    for file in files:\n",
    "        if file.endswith(\".txt\"):\n",
    "             dic = {}\n",
    "             dic['path'] = os.path.join(root, file)\n",
    "             dic['name'] = dic['path'].split(os.path.sep)[-1]\n",
    "             dic['class'] = dic['path'].split(os.path.sep)[-2]\n",
    "             dic['set'] = dic['path'].split(os.path.sep)[-3]\n",
    "             _rows.append(dic)\n",
    "\n",
    "df = pd.DataFrame.from_records(_rows)\n",
    "print(df.head())\n",
    "\n",
    "df['class'] = df['class'].astype(int)\n",
    "df['class'] = df['class'].values - 1\n",
    "\n",
    "df_train = df[df['set'] == 'train']\n",
    "df_val = df[df['set'] == 'validation']\n",
    "df_test = df[df['set'] == 'test']\n",
    "\n",
    "train_ids = df_train.path.values\n",
    "train_classes = {}\n",
    "\n",
    "for i, row in df_train.iterrows():\n",
    "    train_classes[row['path']] = int(row['class'])\n",
    "    \n",
    "test_ids = df_test.path.values\n",
    "test_classes = {}\n",
    "\n",
    "for i, row in df_test.iterrows():\n",
    "    test_classes[row['path']] = int(row['class'])\n",
    "\n",
    "val_ids = df_val.path.values\n",
    "val_classes = {}\n",
    "\n",
    "for i, row in df_val.iterrows():\n",
    "    val_classes[row['path']] = int(row['class'])\n",
    "\n",
    "#PRE-PROCESSING\n",
    "#max value of uint16\n",
    "max = 65535\n",
    "\n",
    "def pre_process(X):\n",
    "    return np.expand_dims(X, axis=-1)/(max+0.0)\n",
    "\n",
    "\n",
    "#TRAINING\n",
    "#train_params = {'ids':train_ids, 'labels':train_classes, 'dim':dim, 'n_classes':nclasses, 'batch_size':batch_size, 'preprocessing':pre_process}\n",
    "#train_gen = utils.TxtDataGenerator(**train_params)\n",
    "\n",
    "test_params = {'ids':test_ids, 'labels':test_classes,\n",
    "               'dim':dim, 'n_classes':nclasses, 'shuffle':False, 'batch_size':1, 'preprocessing':pre_process}\n",
    "test_gen = utils.TxtDataGenerator(**test_params)\n",
    "\n",
    "val_params = {'ids':val_ids, 'labels':val_classes, 'dim':dim, 'n_classes':nclasses, 'batch_size':1, 'preprocessing':pre_process}\n",
    "val_gen = utils.TxtDataGenerator(**val_params)"
   ]
  },
  {
   "cell_type": "code",
   "execution_count": 3,
   "id": "b0f7a1c4",
   "metadata": {},
   "outputs": [
    {
     "name": "stdout",
     "output_type": "stream",
     "text": [
      "WARNING:tensorflow:Unable to restore custom metric. Please ensure that the layer implements `get_config` and `from_config` when saving. In addition, please use the `custom_objects` arg when calling `load_model()`.\n",
      "WARNING:tensorflow:Unable to restore custom metric. Please ensure that the layer implements `get_config` and `from_config` when saving. In addition, please use the `custom_objects` arg when calling `load_model()`.\n",
      "WARNING:tensorflow:Unable to restore custom metric. Please ensure that the layer implements `get_config` and `from_config` when saving. In addition, please use the `custom_objects` arg when calling `load_model()`.\n"
     ]
    },
    {
     "name": "stderr",
     "output_type": "stream",
     "text": [
      "2022-10-11 10:20:40.847007: W tensorflow/stream_executor/platform/default/dso_loader.cc:64] Could not load dynamic library 'libcuda.so.1'; dlerror: libcuda.so.1: cannot open shared object file: No such file or directory\n",
      "2022-10-11 10:20:40.847035: W tensorflow/stream_executor/cuda/cuda_driver.cc:269] failed call to cuInit: UNKNOWN ERROR (303)\n",
      "2022-10-11 10:20:40.847056: I tensorflow/stream_executor/cuda/cuda_diagnostics.cc:156] kernel driver does not appear to be running on this host (gabriel-ux303ua): /proc/driver/nvidia/version does not exist\n",
      "2022-10-11 10:20:40.847418: I tensorflow/core/platform/cpu_feature_guard.cc:193] This TensorFlow binary is optimized with oneAPI Deep Neural Network Library (oneDNN) to use the following CPU instructions in performance-critical operations:  AVX2 FMA\n",
      "To enable them in other operations, rebuild TensorFlow with the appropriate compiler flags.\n"
     ]
    },
    {
     "name": "stdout",
     "output_type": "stream",
     "text": [
      "Model: \"model\"\n",
      "_________________________________________________________________\n",
      " Layer (type)                Output Shape              Param #   \n",
      "=================================================================\n",
      " input_1 (InputLayer)        [(None, 5, 5, 13, 1)]     0         \n",
      "                                                                 \n",
      " conv3d (Conv3D)             (None, 5, 5, 13, 32)      896       \n",
      "                                                                 \n",
      " conv3d_1 (Conv3D)           (None, 5, 5, 13, 32)      27680     \n",
      "                                                                 \n",
      " max_pooling3d (MaxPooling3D  (None, 2, 2, 6, 32)      0         \n",
      " )                                                               \n",
      "                                                                 \n",
      " batch_normalization (BatchN  (None, 2, 2, 6, 32)      128       \n",
      " ormalization)                                                   \n",
      "                                                                 \n",
      " conv3d_2 (Conv3D)           (None, 2, 2, 6, 32)       27680     \n",
      "                                                                 \n",
      " conv3d_3 (Conv3D)           (None, 2, 2, 6, 32)       27680     \n",
      "                                                                 \n",
      " max_pooling3d_1 (MaxPooling  (None, 1, 1, 3, 32)      0         \n",
      " 3D)                                                             \n",
      "                                                                 \n",
      " batch_normalization_1 (Batc  (None, 1, 1, 3, 32)      128       \n",
      " hNormalization)                                                 \n",
      "                                                                 \n",
      " flatten (Flatten)           (None, 96)                0         \n",
      "                                                                 \n",
      " dense (Dense)               (None, 40)                3880      \n",
      "                                                                 \n",
      " dropout (Dropout)           (None, 40)                0         \n",
      "                                                                 \n",
      " dense_1 (Dense)             (None, 6)                 246       \n",
      "                                                                 \n",
      "=================================================================\n",
      "Total params: 88,318\n",
      "Trainable params: 88,190\n",
      "Non-trainable params: 128\n",
      "_________________________________________________________________\n"
     ]
    }
   ],
   "source": [
    "#definicao do modelo\n",
    "import tensorflow as tf \n",
    "from tensorflow.keras.layers import Conv2D, Dense, MaxPooling2D, Flatten, Dropout, BatchNormalization, GlobalMaxPooling2D\n",
    "from tensorflow.keras.optimizers import Adam,RMSprop, SGD\n",
    "from tensorflow.keras.callbacks import ReduceLROnPlateau, LearningRateScheduler\n",
    "from tensorflow.keras.applications.xception import preprocess_input\n",
    "target_size_dimension = 300\n",
    "\n",
    "\n",
    "img_size = (target_size_dimension, target_size_dimension)\n",
    "#model path\n",
    "diretorio_modelo = r'/home/gabriel/Downloads/Baseline3DExtendedExperiment_model__20220822-1215/'\n",
    "\n",
    "nmodel = tf.keras.models.load_model(diretorio_modelo, compile=False)\n",
    "\n",
    "nmodel.summary()"
   ]
  },
  {
   "cell_type": "code",
   "execution_count": 4,
   "id": "60ea602f",
   "metadata": {},
   "outputs": [],
   "source": [
    "import matplotlib.cm as cm\n",
    "from IPython.display import Image, display\n",
    "import tensorflow as tf\n",
    "from PIL import Image\n",
    "\n",
    "#define nome dos metodos que o keras usa para criar a visualização\n",
    "def preprocess_input(X):\n",
    "    return np.expand_dims(X, axis=-1)/(max+0.0)\n",
    "\n",
    "\n",
    "\n",
    "def make_gradcam_heatmap(img_array, grad_model, last_conv_layer_name, pred_index=None, tresh=0.1):\n",
    "    # First, we create a model that maps the input image to the activations\n",
    "    # of the last conv layer as well as the output predictions\n",
    "    #grad_model = tf.keras.models.Model(\n",
    "        #[model.inputs], [model.get_layer(last_conv_layer_name).output, model.output]\n",
    "    #)\n",
    "\n",
    "    # Then, we compute the gradient of the top predicted class for our input image\n",
    "    # with respect to the activations of the last conv layer\n",
    "    with tf.GradientTape() as tape:\n",
    "        last_conv_layer_output, preds = grad_model(img_array)\n",
    "        if pred_index is None:\n",
    "            pred_index = tf.argmax(preds[0])\n",
    "        class_channel = preds[:, pred_index]\n",
    "\n",
    "    # This is the gradient of the output neuron (top predicted or chosen)\n",
    "    # with regard to the output feature map of the last conv layer\n",
    "    grads = tape.gradient(class_channel, last_conv_layer_output)\n",
    "    # This is a vector where each entry is the mean intensity of the gradient\n",
    "    # over a specific feature map channel\n",
    "    pooled_grads = tf.reduce_mean(grads, axis=(0, 1, 2, 3))\n",
    "    \n",
    "\n",
    "    # We multiply each channel in the feature map array\n",
    "    # by \"how important this channel is\" with regard to the top predicted class\n",
    "    # then sum all the channels to obtain the heatmap class activation\n",
    "    last_conv_layer_output = last_conv_layer_output[0]\n",
    "    cam = np.zeros(last_conv_layer_output.shape[0:3], dtype=np.float32)\n",
    "    \n",
    "    for index, w in enumerate(pooled_grads):\n",
    "        cam += w * last_conv_layer_output[:,:,:,index]\n",
    "    #heatmap = last_conv_layer_output @ pooled_grads[..., tf.newaxis, tf.newaxis]\n",
    "    #heatmap = tf.squeeze(heatmap)\n",
    "    \n",
    "    \n",
    "\n",
    "    # For visualization purpose, we will also normalize the heatmap between 0 & 1\n",
    "    heatmap = tf.maximum(cam, 0) / tf.math.reduce_max(cam)\n",
    "    heatmap = heatmap.numpy()\n",
    "    return heatmap\n",
    "\n",
    "def save_and_display_gradcam(img_path, heatmap, cam_path=\"cam.jpg\", alpha=0.4):\n",
    "    # Load the original image\n",
    "    img = keras.preprocessing.image.load_img(img_path)\n",
    "    img = keras.preprocessing.image.img_to_array(img)\n",
    "\n",
    "    # Rescale heatmap to a range 0-255\n",
    "    heatmap = np.uint8(255 * heatmap)\n",
    "    im = Image.fromarray(heatmap)\n",
    "    im = im.resize((img.shape[1], img.shape[0]))\n",
    "    \n",
    "    im = np.asarray(im)\n",
    "    im = np.where(im > 0, 1, im)\n",
    "\n",
    "    # Use jet colormap to colorize heatmap\n",
    "    jet = cm.get_cmap(\"jet\")\n",
    "\n",
    "    # Use RGB values of the colormap\n",
    "    jet_colors = jet(np.arange(256))[:, :3]\n",
    "    jet_heatmap = jet_colors[heatmap]\n",
    "\n",
    " \n",
    "\n",
    "    # Create an image with RGB colorized heatmap\n",
    "    jet_heatmap = keras.preprocessing.image.array_to_img(jet_heatmap)\n",
    "    jet_heatmap = jet_heatmap.resize((img.shape[1], img.shape[0]))\n",
    "    jet_heatmap = keras.preprocessing.image.img_to_array(jet_heatmap)\n",
    "\n",
    "    # Superimpose the heatmap on original image\n",
    "    superimposed_img = jet_heatmap * alpha + img\n",
    "    superimposed_img = keras.preprocessing.image.array_to_img(superimposed_img)\n",
    "\n",
    "    # Save the superimposed image\n",
    "    #superimposed_img.save(cam_path)\n",
    "\n",
    "    # Display Grad CAM\n",
    "    #display(Image(cam_path))\n",
    "    return superimposed_img, im\n"
   ]
  },
  {
   "cell_type": "code",
   "execution_count": 5,
   "id": "c47c5288",
   "metadata": {},
   "outputs": [
    {
     "name": "stdout",
     "output_type": "stream",
     "text": [
      "1118/1118 [==============================] - 4s 3ms/step\n",
      "WARNING:tensorflow:Unable to restore custom metric. Please ensure that the layer implements `get_config` and `from_config` when saving. In addition, please use the `custom_objects` arg when calling `load_model()`.\n",
      "WARNING:tensorflow:Unable to restore custom metric. Please ensure that the layer implements `get_config` and `from_config` when saving. In addition, please use the `custom_objects` arg when calling `load_model()`.\n",
      "WARNING:tensorflow:Unable to restore custom metric. Please ensure that the layer implements `get_config` and `from_config` when saving. In addition, please use the `custom_objects` arg when calling `load_model()`.\n"
     ]
    }
   ],
   "source": [
    "predictions = nmodel.predict(test_gen, steps=len(test_gen))\n",
    "predicted_classes = np.argmax(predictions, axis=1)\n",
    "correct_classified = np.where(predicted_classes == df_test['class'].values)[0]\n",
    "\n",
    "paths = []\n",
    "for p in correct_classified:\n",
    "    paths.append(test_ids[p])\n",
    "\n",
    "model = tf.keras.models.load_model(diretorio_modelo, compile=False)\n",
    "model.layers[-1].activation = None\n",
    "\n",
    "last_conv_layer_name = 'conv3d_3'\n",
    "grad_model = tf.keras.models.Model([model.inputs], [model.get_layer(last_conv_layer_name).output, model.output])\n",
    "np.random.seed(16)\n",
    "\n",
    "individual_results = {}\n",
    "\n",
    "for img_path in paths:\n",
    "    class_image = img_path.split(os.path.sep)[-2]\n",
    "    if not class_image in individual_results:\n",
    "        individual_results[class_image] = []\n",
    "    \n",
    "    img = pre_process(np.load(img_path))\n",
    "    heatmap = make_gradcam_heatmap(np.expand_dims(img, axis=0), grad_model, last_conv_layer_name)\n",
    "    heatmap_rs = resize(heatmap, (5,5,13))\n",
    "    #heatmap_rs = heatmap\n",
    "    individual_results[class_image].append(heatmap_rs)\n",
    "    \n"
   ]
  },
  {
   "cell_type": "code",
   "execution_count": 6,
   "id": "05c5e89e",
   "metadata": {
    "scrolled": false
   },
   "outputs": [
    {
     "name": "stdout",
     "output_type": "stream",
     "text": [
      "Images fot class:  1\n",
      "[[32 39 25 10 17]\n",
      " [41 50 31 12 21]\n",
      " [23 28 18  9 13]\n",
      " [ 6  6  6  5  6]\n",
      " [15 17 12  7 10]]\n"
     ]
    },
    {
     "data": {
      "image/png": "[encoded data removed]",
      "text/plain": [
       "<Figure size 640x480 with 1 Axes>"
      ]
     },
     "metadata": {},
     "output_type": "display_data"
    },
    {
     "name": "stdout",
     "output_type": "stream",
     "text": [
      "[[11 13  5  0  1  3 20 38 41 42 31 16 19]]\n"
     ]
    },
    {
     "data": {
      "image/png": "[encoded data removed]",
      "text/plain": [
       "<Figure size 640x480 with 1 Axes>"
      ]
     },
     "metadata": {},
     "output_type": "display_data"
    },
    {
     "name": "stdout",
     "output_type": "stream",
     "text": [
      "Images fot class:  2\n",
      "[[64 74 55 37 46]\n",
      " [72 82 62 43 53]\n",
      " [57 66 48 30 39]\n",
      " [41 49 34 18 26]\n",
      " [49 57 41 24 32]]\n"
     ]
    },
    {
     "data": {
      "image/png": "[encoded data removed]",
      "text/plain": [
       "<Figure size 640x480 with 1 Axes>"
      ]
     },
     "metadata": {},
     "output_type": "display_data"
    },
    {
     "name": "stdout",
     "output_type": "stream",
     "text": [
      "[[55 55 56 57 57 57 63 68 52 34 26 21 22]]\n"
     ]
    },
    {
     "data": {
      "image/png": "[encoded data removed]",
      "text/plain": [
       "<Figure size 640x480 with 1 Axes>"
      ]
     },
     "metadata": {},
     "output_type": "display_data"
    },
    {
     "name": "stdout",
     "output_type": "stream",
     "text": [
      "Images fot class:  6\n",
      "[[36 39 32 26 29]\n",
      " [33 38 29 19 24]\n",
      " [38 40 36 33 35]\n",
      " [43 42 44 47 45]\n",
      " [41 41 40 40 40]]\n"
     ]
    },
    {
     "data": {
      "image/png": "[encoded data removed]",
      "text/plain": [
       "<Figure size 640x480 with 1 Axes>"
      ]
     },
     "metadata": {},
     "output_type": "display_data"
    },
    {
     "name": "stdout",
     "output_type": "stream",
     "text": [
      "[[49 52 39 31 34 37 36 35 35 36 32 28 29]]\n"
     ]
    },
    {
     "data": {
      "image/png": "[encoded data removed]",
      "text/plain": [
       "<Figure size 640x480 with 1 Axes>"
      ]
     },
     "metadata": {},
     "output_type": "display_data"
    },
    {
     "name": "stdout",
     "output_type": "stream",
     "text": [
      "Images fot class:  4\n",
      "[[57 54 61 67 64]\n",
      " [60 56 64 71 67]\n",
      " [55 52 58 63 61]\n",
      " [50 48 52 56 54]\n",
      " [53 50 55 59 57]]\n"
     ]
    },
    {
     "data": {
      "image/png": "[encoded data removed]",
      "text/plain": [
       "<Figure size 640x480 with 1 Axes>"
      ]
     },
     "metadata": {},
     "output_type": "display_data"
    },
    {
     "name": "stdout",
     "output_type": "stream",
     "text": [
      "[[ 37  36  44  57  85 107  77  46  55  67  57  40  43]]\n"
     ]
    },
    {
     "data": {
      "image/png": "[encoded data removed]",
      "text/plain": [
       "<Figure size 640x480 with 1 Axes>"
      ]
     },
     "metadata": {},
     "output_type": "display_data"
    },
    {
     "name": "stdout",
     "output_type": "stream",
     "text": [
      "Images fot class:  3\n",
      "[[ 72  83  60  36  48]\n",
      " [ 60  69  50  31  41]\n",
      " [ 84  98  70  41  55]\n",
      " [108 127  89  51  70]\n",
      " [ 96 112  79  46  63]]\n"
     ]
    },
    {
     "data": {
      "image/png": "[encoded data removed]",
      "text/plain": [
       "<Figure size 640x480 with 1 Axes>"
      ]
     },
     "metadata": {},
     "output_type": "display_data"
    },
    {
     "name": "stdout",
     "output_type": "stream",
     "text": [
      "[[67 66 75 78 62 48 59 69 80 91 80 62 65]]\n"
     ]
    },
    {
     "data": {
      "image/png": "[encoded data removed]",
      "text/plain": [
       "<Figure size 640x480 with 1 Axes>"
      ]
     },
     "metadata": {},
     "output_type": "display_data"
    },
    {
     "name": "stdout",
     "output_type": "stream",
     "text": [
      "Images fot class:  5\n",
      "[[100 102  99  95  97]\n",
      " [114 122 106  90  98]\n",
      " [ 87  82  91 100  96]\n",
      " [ 59  42  76 110  93]\n",
      " [ 73  62  84 105  94]]\n"
     ]
    },
    {
     "data": {
      "image/png": "[encoded data removed]",
      "text/plain": [
       "<Figure size 640x480 with 1 Axes>"
      ]
     },
     "metadata": {},
     "output_type": "display_data"
    },
    {
     "name": "stdout",
     "output_type": "stream",
     "text": [
      "[[ 29  21  70 103  87  75 107 140 143 144 113  73  79]]\n"
     ]
    },
    {
     "data": {
      "image/png": "[encoded data removed]",
      "text/plain": [
       "<Figure size 640x480 with 1 Axes>"
      ]
     },
     "metadata": {},
     "output_type": "display_data"
    }
   ],
   "source": [
    "import matplotlib.pyplot as plt\n",
    "%matplotlib inline\n",
    "\n",
    "for k, v in individual_results.items():\n",
    "    print('Images fot class: ',k) \n",
    "    \n",
    "    median_cube = np.mean(v, axis=0)\n",
    "    median_pixel = np.mean(v, axis=(0, -1))\n",
    "    median_band = np.mean(v, axis=(0, 1, 2))\n",
    "    heatmap = np.uint8(255 * median_pixel)\n",
    "    im = Image.fromarray(heatmap)\n",
    "    \n",
    "    # Use jet colormap to colorize heatmap\n",
    "    jet = cm.get_cmap(\"Reds\")\n",
    "    \n",
    "    print(heatmap)\n",
    "    # Use RGB values of the colormap\n",
    "    jet_colors = jet(np.arange(256))[:, :3]\n",
    "    jet_heatmap = jet_colors[heatmap]\n",
    "    \n",
    "    plt.imshow(jet_heatmap)\n",
    "    plt.show()\n",
    "    \n",
    "    heatmap2 = np.expand_dims(np.uint8(255 * median_band), axis=0)\n",
    "    print(heatmap2)\n",
    "    # Use jet colormap to colorize heatmap\n",
    "    jet = cm.get_cmap(\"Reds\")\n",
    "    # Use RGB values of the colormap\n",
    "    jet_colors = jet(np.arange(256))[:, :3]\n",
    "    jet_heatmap = jet_colors[heatmap2]\n",
    "    \n",
    "    plt.imshow(jet_heatmap)\n",
    "    plt.show()\n",
    "    \n",
    "    \n",
    "    \n",
    "    \n",
    "    \n",
    "    \n",
    "    "
   ]
  }
 ],
 "metadata": {
  "kernelspec": {
   "display_name": "Python 3 (ipykernel)",
   "language": "python",
   "name": "python3"
  },
  "language_info": {
   "codemirror_mode": {
    "name": "ipython",
    "version": 3
   },
   "file_extension": ".py",
   "mimetype": "text/x-python",
   "name": "python",
   "nbconvert_exporter": "python",
   "pygments_lexer": "ipython3",
   "version": "3.9.2"
  }
 },
 "nbformat": 4,
 "nbformat_minor": 5
}
